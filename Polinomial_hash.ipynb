{
 "cells": [
  {
   "cell_type": "markdown",
   "metadata": {},
   "source": [
    "Плюс использования полиномиальных хэшей для строк - это быстрое вычисление хэша (за O(1)) для любой подстроки исхходной строки, если предпосчитать хэши для всех префиксов строки. Будем делать это, как описано в статье https://habrahabr.ru/post/142589/"
   ]
  },
  {
   "cell_type": "code",
   "execution_count": 1,
   "metadata": {},
   "outputs": [
    {
     "name": "stdout",
     "output_type": "stream",
     "text": [
      "Substring number 1: cat\n",
      "Positions of entrence (first letter) into reference string:  9, 102, 126, 183, 189\n",
      "Substring number 2: aag\n",
      "Positions of entrence (first letter) into reference string:  17, 44, 59, 137, 162\n"
     ]
    }
   ],
   "source": [
    "modulo = pow(2, 32)\n",
    "\n",
    "\n",
    "def FindAllSubstringsInReference(reference_string, substrings):\n",
    "    \"\"\"\n",
    "    Find all entrances of given substrings into reference_string\n",
    "    \n",
    "    params: \n",
    "    reference_string (str): reference srting\n",
    "    substrings {dict}: dict of substrings {number of substring: substring}\n",
    "    \"\"\"\n",
    "    p = 401  # prime numper, bigger than biggest code of symbol in string\n",
    "    # ord('t') = 116\n",
    "    \n",
    "    powers = [pow(p,i) for i in range(len(reference_string))]\n",
    "\n",
    "    reference_hash = [0] * len(reference_string)\n",
    "    reference_hash[0] = ord(reference_string[0]) % modulo\n",
    "    for index in range(1, len(reference_string)):\n",
    "        reference_hash[index] = (reference_hash[index - 1] + \n",
    "                                 powers[index] * ord(reference_string[index])) % modulo\n",
    "    \n",
    "    result = {}\n",
    "    for index in substrings.keys():\n",
    "        result[index] = FindSubstringEntrances(reference_hash, substrings[index], \n",
    "                                   powers, reference_string)\n",
    "        print(\"Substring number {}: {}\".format(index, substrings[index]))\n",
    "        print(\"Positions of entrence (first letter) into reference string: \", \", \".join(list(map(str, result[index]))))\n",
    "\n",
    "\n",
    "def GetHashOfSubstring(prefix_hashes, L, R):\n",
    "    \"\"\"\n",
    "    Calculate hash of substring reference_string[L:R] using hashes of reference_string prefixes \n",
    "    \"\"\"\n",
    "    if L == 0:\n",
    "        return prefix_hashes[R]\n",
    "    return (prefix_hashes[R] - prefix_hashes[L - 1]) % modulo\n",
    "\n",
    "\n",
    "def FindSubstringEntrances(ref_hash, substring, powers, reference_string):\n",
    "    \"\"\"\n",
    "    Find all positions of entrance of substring into reference_string\n",
    "    \"\"\"\n",
    "    substring_hash = sum([(ord(substring[i]) * powers[i]) for i in range(len(substring))]) % modulo\n",
    "    substring_len = len(substring)\n",
    "    indices_of_entrance = []\n",
    "    for index in range(0, len(ref_hash) - substring_len + 1):\n",
    "        if (GetHashOfSubstring(ref_hash, index, index + substring_len - 1) == \n",
    "                                    substring_hash * powers[index] % modulo):\n",
    "            if reference_string[index:index + substring_len] == substring:\n",
    "                indices_of_entrance.append(index)\n",
    "            else:\n",
    "                print(\"collision happened\")\n",
    "    return indices_of_entrance\n",
    "\n",
    "\n",
    "with open(\"test5.txt\", 'r') as file:\n",
    "    lines = file.readlines()\n",
    "reference_string = lines[0].strip()\n",
    "lines.pop(0)\n",
    "substrings = dict()\n",
    "for line in lines:\n",
    "    line = line.strip()\n",
    "    current_string_number = 0\n",
    "    if line.startswith(\">\"):\n",
    "        currrent_string_number = line[1:]\n",
    "    else:\n",
    "        substrings[currrent_string_number] = line\n",
    "\n",
    "FindAllSubstringsInReference(reference_string, substrings)"
   ]
  },
  {
   "cell_type": "code",
   "execution_count": null,
   "metadata": {
    "collapsed": true
   },
   "outputs": [],
   "source": []
  }
 ],
 "metadata": {
  "kernelspec": {
   "display_name": "Python 3",
   "language": "python",
   "name": "python3"
  },
  "language_info": {
   "codemirror_mode": {
    "name": "ipython",
    "version": 3
   },
   "file_extension": ".py",
   "mimetype": "text/x-python",
   "name": "python",
   "nbconvert_exporter": "python",
   "pygments_lexer": "ipython3",
   "version": "3.5.2"
  }
 },
 "nbformat": 4,
 "nbformat_minor": 2
}
