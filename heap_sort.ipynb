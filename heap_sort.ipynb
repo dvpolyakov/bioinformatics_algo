{
 "cells": [
  {
   "cell_type": "code",
   "execution_count": 1,
   "metadata": {
    "collapsed": true
   },
   "outputs": [],
   "source": [
    "def swap(i, j):                    \n",
    "    sqc[i], sqc[j] = sqc[j], sqc[i] \n",
    "\n",
    "def heapify(end,i):   \n",
    "    l=2 * i + 1  \n",
    "    r=2 * (i + 1)   \n",
    "    max=i   \n",
    "    if l < end and sqc[i] < sqc[l]:   \n",
    "        max = l   \n",
    "    if r < end and sqc[max] < sqc[r]:   \n",
    "        max = r   \n",
    "    if max != i:   \n",
    "        swap(i, max)   \n",
    "        heapify(end, max)   \n",
    "\n",
    "def heap_sort(sqc):     \n",
    "    end = len(sqc)   \n",
    "    start = end // 2 - 1 \n",
    "    for i in range(start, -1, -1):   \n",
    "        heapify(end, i)   \n",
    "    for i in range(end-1, 0, -1):   \n",
    "        swap(i, 0)   \n",
    "        heapify(i, 0)   "
   ]
  },
  {
   "cell_type": "code",
   "execution_count": 2,
   "metadata": {},
   "outputs": [
    {
     "name": "stdout",
     "output_type": "stream",
     "text": [
      "['abb', 'baa', 'aaa', 'bba', 'bab', 'aab', 'bbb', 'aba']\n"
     ]
    }
   ],
   "source": [
    "from random import shuffle\n",
    "\n",
    "sqc = ['aba', 'bba', 'aab', 'aaa', 'bbb', 'abb', 'bab', 'baa']\n",
    "shuffle(sqc)\n",
    "print(sqc)"
   ]
  },
  {
   "cell_type": "code",
   "execution_count": 3,
   "metadata": {},
   "outputs": [
    {
     "name": "stdout",
     "output_type": "stream",
     "text": [
      "['aaa', 'aab', 'aba', 'abb', 'baa', 'bab', 'bba', 'bbb']\n"
     ]
    }
   ],
   "source": [
    "heap_sort(sqc)\n",
    "print(sqc)"
   ]
  },
  {
   "cell_type": "code",
   "execution_count": null,
   "metadata": {
    "collapsed": true
   },
   "outputs": [],
   "source": []
  }
 ],
 "metadata": {
  "kernelspec": {
   "display_name": "Python 3",
   "language": "python",
   "name": "python3"
  },
  "language_info": {
   "codemirror_mode": {
    "name": "ipython",
    "version": 3
   },
   "file_extension": ".py",
   "mimetype": "text/x-python",
   "name": "python",
   "nbconvert_exporter": "python",
   "pygments_lexer": "ipython3",
   "version": "3.5.2"
  }
 },
 "nbformat": 4,
 "nbformat_minor": 2
}
