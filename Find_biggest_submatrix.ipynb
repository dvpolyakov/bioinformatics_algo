{
 "cells": [
  {
   "cell_type": "markdown",
   "metadata": {},
   "source": [
    "Задачу о поиске наибольшей подматрицы разобъем на две подзадачи: \n",
    "- поиск максимального по площади прямоугольника в гистограмме https://leetcode.com/problems/largest-rectangle-in-histogram/description/\n",
    "- для каждой строки матрицы запустим поиск прямоугольника в гистограмме\n",
    "\n",
    "Также выполним предподсчет для исходной матрицы: для каждой ячейки $a[i][j]$ будем хранить число, равное числу единичек над элементом $a[i][j]$ вместе с самой единичкой $a[i][j]$. То есть если обозначить матрицу предподсчета за $d[i][j]$, то\n",
    "\n",
    "$$\n",
    "d[i][j] = \n",
    "\\begin{cases}\n",
    "d[i-1][j] + 1, & \\text{if} \\ d[i][j] = 1 \\\\\n",
    "0, & \\text{otherwise}\n",
    "\\end{cases}\n",
    "$$"
   ]
  },
  {
   "cell_type": "markdown",
   "metadata": {},
   "source": [
    "Поиск прямоугольника в гистограмме выполняем за $O(n)$. Запустив $m$ раз поиск прямоугольника на $m$ строках матрицы, получим сложность $O(mn)$, т.е. линейную по размеру входа.\n",
    "\n",
    "Затраты по доп памяти: $O(n)$ на хранение стека во время поиска прямоугольника в гистограмме, где $n$ - число столбцов в гистограмме."
   ]
  },
  {
   "cell_type": "code",
   "execution_count": 1,
   "metadata": {
    "collapsed": true
   },
   "outputs": [],
   "source": [
    "import numpy as np"
   ]
  },
  {
   "cell_type": "code",
   "execution_count": 2,
   "metadata": {
    "collapsed": true
   },
   "outputs": [],
   "source": [
    "def get_max_area_in_histogram(hist):\n",
    "    \"\"\"\n",
    "    find the biggest rectangle in a histogram problem\n",
    "    \"\"\"\n",
    "    stack = []\n",
    "    max_area_of_rectangle = 0\n",
    "    \n",
    "    tos = 0 # top of stack\n",
    "    area_with_current_tos = 0\n",
    "    \n",
    "    left_corner = 0\n",
    "    right_corner = 0\n",
    "\n",
    "    index_of_bar = 0 \n",
    "    while (index_of_bar < len(hist)):\n",
    "        if ((len(stack) == 0) or (hist[stack[-1]] <= hist[index_of_bar])):\n",
    "            stack.append(index_of_bar)\n",
    "            index_of_bar += 1\n",
    "        else:\n",
    "            tos = stack.pop()\n",
    "            \n",
    "            area_with_current_tos = hist[tos] * \\\n",
    "                            (index_of_bar if len(stack) == 0 else index_of_bar - stack[-1] - 1)\n",
    "\n",
    "            if area_with_current_tos > max_area_of_rectangle:\n",
    "                max_area_of_rectangle = area_with_current_tos\n",
    "                right_corner = index_of_bar\n",
    "                if len(stack) == 0:\n",
    "                    left_corner = 0\n",
    "                else:\n",
    "                    left_corner = stack[-1] + 1\n",
    "\n",
    "    while (len(stack) != 0):\n",
    "        tos = stack.pop()\n",
    "        area_with_current_tos = hist[tos] * (\n",
    "            index_of_bar if (len(stack) == 0) else index_of_bar - stack[-1] - 1)\n",
    "\n",
    "        if area_with_current_tos > max_area_of_rectangle:\n",
    "            max_area_of_rectangle = area_with_current_tos\n",
    "            right_corner = index_of_bar\n",
    "            if len(stack) == 0:\n",
    "                    left_corner = 0\n",
    "            else:\n",
    "                left_corner = stack[-1] + 1\n",
    "            \n",
    "    return_list = [max_area_of_rectangle, left_corner, right_corner]\n",
    "    return return_list"
   ]
  },
  {
   "cell_type": "code",
   "execution_count": 3,
   "metadata": {
    "collapsed": true
   },
   "outputs": [],
   "source": [
    "def matrix_preprocessing(matrix):\n",
    "    for i in range(1, len(matrix)):\n",
    "        for j in range(len(matrix[0])):\n",
    "            if matrix[i][j] != 0:\n",
    "                matrix[i][j] = matrix[i-1][j] + 1\n",
    "    return matrix"
   ]
  },
  {
   "cell_type": "code",
   "execution_count": 4,
   "metadata": {
    "collapsed": true
   },
   "outputs": [],
   "source": [
    "def find_biggest_rectangle_submatrix(matrix):\n",
    "    matrix_preprocessing(matrix)    \n",
    "    max_area = 0\n",
    "    upper_left_corner = 0\n",
    "    down_right_corner = 0\n",
    "    row_coordinate = 0\n",
    "    for row in matrix:\n",
    "        result = get_max_area_in_histogram(row)\n",
    "        if result[0] > max_area:\n",
    "            max_area = result[0]\n",
    "            left_corner = result[1]\n",
    "            right_corner = result[2]\n",
    "            row_number = row_coordinate\n",
    "        row_coordinate += 1\n",
    "        \n",
    "    y_1 = row_number+1 - int(max_area/(right_corner - left_corner))\n",
    "        \n",
    "    print(\"max area of 1's rectangle submatrix is\", max_area)\n",
    "    print(\"left corner:\", (y_1 + 1, left_corner+1))\n",
    "    print(\"right corner:\", (row_number + 1, right_corner))\n"
   ]
  },
  {
   "cell_type": "code",
   "execution_count": 9,
   "metadata": {},
   "outputs": [
    {
     "name": "stdout",
     "output_type": "stream",
     "text": [
      "[[1 0 0 0]\n",
      " [1 1 0 1]\n",
      " [0 0 1 1]\n",
      " [0 0 1 1]]\n"
     ]
    }
   ],
   "source": [
    "M = 4\n",
    "N = 4\n",
    "matrix = np.random.randint(0, 2, size=(M, N))\n",
    "print(matrix)"
   ]
  },
  {
   "cell_type": "code",
   "execution_count": 10,
   "metadata": {},
   "outputs": [
    {
     "name": "stdout",
     "output_type": "stream",
     "text": [
      "max area of 1's rectangle submatrix is 4\n",
      "left corner: (3, 3)\n",
      "right corner: (4, 4)\n"
     ]
    }
   ],
   "source": [
    "find_biggest_rectangle_submatrix(matrix)"
   ]
  },
  {
   "cell_type": "code",
   "execution_count": null,
   "metadata": {
    "collapsed": true
   },
   "outputs": [],
   "source": []
  },
  {
   "cell_type": "code",
   "execution_count": null,
   "metadata": {
    "collapsed": true
   },
   "outputs": [],
   "source": []
  }
 ],
 "metadata": {
  "kernelspec": {
   "display_name": "Python 3",
   "language": "python",
   "name": "python3"
  },
  "language_info": {
   "codemirror_mode": {
    "name": "ipython",
    "version": 3
   },
   "file_extension": ".py",
   "mimetype": "text/x-python",
   "name": "python",
   "nbconvert_exporter": "python",
   "pygments_lexer": "ipython3",
   "version": "3.5.2"
  }
 },
 "nbformat": 4,
 "nbformat_minor": 2
}
